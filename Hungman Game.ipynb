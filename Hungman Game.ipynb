{
 "cells": [
  {
   "cell_type": "code",
   "execution_count": 29,
   "metadata": {},
   "outputs": [
    {
     "data": {
      "text/plain": [
       "['donkey',\n",
       " 'tiger',\n",
       " 'lion',\n",
       " 'panther',\n",
       " 'leopard',\n",
       " 'cheetah',\n",
       " 'bear',\n",
       " 'elephant',\n",
       " 'polar',\n",
       " 'bear',\n",
       " 'turtle',\n",
       " 'tortoise',\n",
       " 'crocodile']"
      ]
     },
     "execution_count": 29,
     "metadata": {},
     "output_type": "execute_result"
    }
   ],
   "source": [
    "words = \"\"\"Donkey\tTiger\tLion\tPanther\n",
    "Leopard\tCheetah\tBear\tElephant\n",
    "Polar bear\tTurtle\tTortoise\tCrocodile\"\"\"\n",
    "\n",
    "words = [word.lower() for word in words.replace('\\n', ' ').replace('\\t', ' ').split()]\n",
    "words"
   ]
  },
  {
   "cell_type": "code",
   "execution_count": 30,
   "metadata": {},
   "outputs": [],
   "source": [
    "def hungman_game(result_words=words, game_name='animal'):\n",
    "\n",
    "    \"\"\"This is a humgman game, the paramenters\n",
    "    result_words=list or str (default= list of animals)\n",
    "    game_name=str (default='animals')\"\"\" \n",
    "\n",
    "    import random\n",
    "    try:\n",
    "        while True:    \n",
    "            if list(result_words) != result_words: # if the input was't list, converting it to list\n",
    "                result_words = [word.lower() for word in result_words.replace('\\n', ' ').replace('\\t', ' ').split()]\n",
    "\n",
    "            word = random.choice(result_words) # the random word from the list\n",
    "            print(f\"Guess The Word !\\nHINT: The Word is a Name of an {game_name}\")\n",
    "            word_list =list('_'*len(word))\n",
    "\n",
    "            print(' '.join(word_list))\n",
    "            chances = len(word) + 2\n",
    "            for j in range(chances):    \n",
    "                char = input(\"Guess a single litter: ('cancel' to get out)\")\n",
    "                if char == 'cancel': # for exiting the current game\n",
    "                    break\n",
    "            \n",
    "                if len(char) != 1: # more than one character\n",
    "                    print('Please enter single litter')\n",
    "\n",
    "                elif not (char.isalpha()): # not alphabetic character\n",
    "                    print(\"Please enter alphabetic character\")\n",
    "                # winning case\n",
    "                else: # starting the game\n",
    "                    for i in range(len(word)): # checking if the entered letter in the word\n",
    "                        if char.lower() == word[i].lower():\n",
    "                            word_list[i] = word[i]\n",
    "                            print(' '.join(word_list))\n",
    "                        \n",
    "                \n",
    "                if ''.join(word_list) == word:\n",
    "                    print(f\"Congratulations !!!\\nYou Guessed The Correct Word ({word}) in {j+1} Chances\")\n",
    "                    break\n",
    "            # losing case    \n",
    "            else:\n",
    "                print(f\"You Lost!\\nThe Word was ({word})\")\n",
    "            # repeating the game\n",
    "            answer = input(\"Play again ? (yes / no)\")\n",
    "            \n",
    "            if answer.lower() == 'no':\n",
    "                print(\"Good bye !\")\n",
    "                break\n",
    "    # for keyboard interruption\n",
    "    except KeyboardInterrupt:\n",
    "        print(\"Good bye !\")"
   ]
  },
  {
   "cell_type": "code",
   "execution_count": 28,
   "metadata": {},
   "outputs": [],
   "source": [
    "hungman_game()"
   ]
  }
 ],
 "metadata": {
  "kernelspec": {
   "display_name": "machine_learning",
   "language": "python",
   "name": "python3"
  },
  "language_info": {
   "codemirror_mode": {
    "name": "ipython",
    "version": 3
   },
   "file_extension": ".py",
   "mimetype": "text/x-python",
   "name": "python",
   "nbconvert_exporter": "python",
   "pygments_lexer": "ipython3",
   "version": "3.12.0"
  }
 },
 "nbformat": 4,
 "nbformat_minor": 2
}
